{
 "cells": [
  {
   "cell_type": "code",
   "execution_count": 1,
   "id": "46f065fc",
   "metadata": {},
   "outputs": [],
   "source": [
    "import tensorflow as tf\n",
    "import pandas as pd\n",
    "import numpy as np\n",
    "import os\n",
    "import sys"
   ]
  },
  {
   "cell_type": "code",
   "execution_count": 2,
   "id": "ad8cd8e2",
   "metadata": {},
   "outputs": [],
   "source": [
    "from tensorflow.keras.models import Sequential\n",
    "from tensorflow.keras.layers import Dense, Dropout, Normalization, Lambda\n",
    "from tensorflow.keras.initializers import GlorotUniform\n",
    "from tensorflow.keras.optimizers import Adam\n",
    "from sklearn.model_selection import train_test_split"
   ]
  },
  {
   "cell_type": "code",
   "execution_count": 3,
   "id": "08f360c7",
   "metadata": {},
   "outputs": [],
   "source": [
    "train_data = \"data/train_dataset.csv\"\n",
    "tets_data = \"data/test_dataset.csv\"\n",
    "\n",
    "df_train = pd.read_csv(train_data)\n",
    "df_test = pd.read_csv(tets_data)"
   ]
  },
  {
   "cell_type": "code",
   "execution_count": 4,
   "id": "83336ba7",
   "metadata": {},
   "outputs": [
    {
     "name": "stdout",
     "output_type": "stream",
     "text": [
      "81108\n",
      "1460\n"
     ]
    }
   ],
   "source": [
    "print(df_train.size)\n",
    "print(pd.unique(df_train[\"director_name\"]).size)"
   ]
  },
  {
   "cell_type": "code",
   "execution_count": 5,
   "id": "071099c1",
   "metadata": {},
   "outputs": [
    {
     "name": "stdout",
     "output_type": "stream",
     "text": [
      "Index(['id', 'director_name', 'num_critic_for_reviews', 'duration',\n",
      "       'director_facebook_likes', 'actor_3_facebook_likes', 'actor_2_name',\n",
      "       'actor_1_facebook_likes', 'gross', 'genres', 'actor_1_name',\n",
      "       'movie_title', 'num_voted_users', 'cast_total_facebook_likes',\n",
      "       'actor_3_name', 'facenumber_in_poster', 'plot_keywords',\n",
      "       'num_user_for_reviews', 'language', 'country', 'content_rating',\n",
      "       'title_year', 'actor_2_facebook_likes', 'movie_facebook_likes',\n",
      "       'title_embedding', 'average_degree_centrality', 'imdb_score_binned'],\n",
      "      dtype='object')\n"
     ]
    }
   ],
   "source": [
    "print(df_train.columns)"
   ]
  },
  {
   "cell_type": "code",
   "execution_count": 6,
   "id": "81090894",
   "metadata": {},
   "outputs": [],
   "source": [
    "def preprocess_tags(tags):\n",
    "    # Split tags and apply MultiLabelBinarizer or similar strategy\n",
    "    tags_splitted = tags.apply(lambda x: x.split('|'))\n",
    "    all_tags = set(tag for sublist in tags_splitted for tag in sublist)\n",
    "    tag_list = list(all_tags)\n",
    "    tag_list.sort()  # Optional: Sort tags for consistent ordering\n",
    "\n",
    "    # Create a Multi-Hot Encoded DataFrame for tags\n",
    "    def encode_tags(tag_row):\n",
    "        return [1 if tag in tag_row else 0 for tag in tag_list]\n",
    "\n",
    "    tag_encoded = tags_splitted.apply(encode_tags)\n",
    "    tag_df = pd.DataFrame(tag_encoded.tolist(), columns=tag_list)\n",
    "    return tag_df"
   ]
  },
  {
   "cell_type": "code",
   "execution_count": 7,
   "id": "4fcff4e0",
   "metadata": {},
   "outputs": [],
   "source": [
    "class IMDB_DataFrame(pd.DataFrame):\n",
    "    @property\n",
    "    def _constructor(self):\n",
    "        return IMDB_DataFrame\n",
    "    \n",
    "    def hot_code_property(self, field):\n",
    "        tags_splitted = self[field].apply(lambda x: x.split('|'))\n",
    "        all_tags = set(tag for sublist in tags_splitted for tag in sublist)\n",
    "        tag_list = list(all_tags)\n",
    "        tag_list.sort()  # Optional: Sort tags for consistent ordering\n",
    "\n",
    "        # Create a Multi-Hot Encoded DataFrame for tags\n",
    "        def encode_tags(tag_row):\n",
    "            return [1 if tag in tag_row else 0 for tag in tag_list]\n",
    "\n",
    "        tag_encoded = tags_splitted.apply(encode_tags)\n",
    "        tag_df = pd.DataFrame(tag_encoded.tolist(), columns=tag_list)\n",
    "        \n",
    "        return pd.concat([self.drop(field,axis=1), tag_df], axis=1)"
   ]
  },
  {
   "cell_type": "code",
   "execution_count": 8,
   "id": "490f0714",
   "metadata": {},
   "outputs": [],
   "source": [
    "# Add preprocessed tags to the dataframe\n",
    "df_train = IMDB_DataFrame(pd.read_csv(train_data))\n",
    "df_train = df_train.hot_code_property('genres')\n",
    "df_train = df_train.hot_code_property('plot_keywords')\n",
    "df_train = df_train.hot_code_property('director_name')\n",
    "df_train = df_train.hot_code_property('actor_1_name')\n",
    "df_train = df_train.hot_code_property('actor_2_name')\n",
    "df_train = df_train.hot_code_property('actor_3_name')\n",
    "df_train = df_train.hot_code_property('country')\n",
    "df_train = df_train.hot_code_property('content_rating')\n",
    "df_train = df_train.drop(columns=['title_embedding', 'movie_title','language'])"
   ]
  },
  {
   "cell_type": "code",
   "execution_count": 9,
   "id": "5d550895",
   "metadata": {},
   "outputs": [
    {
     "name": "stdout",
     "output_type": "stream",
     "text": [
      "(3004, 12808) (3004,)\n"
     ]
    }
   ],
   "source": [
    "features = df_train.drop(columns=['imdb_score_binned']).astype(np.float32)\n",
    "ratings = df_train['imdb_score_binned'].astype(np.float32)\n",
    "print(features.shape, ratings.shape)"
   ]
  },
  {
   "cell_type": "code",
   "execution_count": 10,
   "id": "06e7341e",
   "metadata": {},
   "outputs": [],
   "source": [
    "# prepare the training data\n",
    "X_train, X_test, y_train, y_test = train_test_split(features, ratings, test_size=0.2, random_state=32)"
   ]
  },
  {
   "cell_type": "code",
   "execution_count": 32,
   "id": "e47b97ab",
   "metadata": {},
   "outputs": [],
   "source": [
    "# Model configuration\n",
    "model = Sequential([\n",
    "    Dense(128, activation='relu',kernel_initializer=GlorotUniform()),\n",
    "    Dropout(0.2),\n",
    "    Dense(64, activation='relu'),\n",
    "    Dense(64, activation='relu'),\n",
    "    Dropout(0.1),\n",
    "    Dense(32, activation='relu'),\n",
    "    Dense(32, activation='relu'),\n",
    "    Dropout(0.1),\n",
    "    Dense(16, activation='relu'),\n",
    "    Dense(16, activation='relu'),\n",
    "    # Dense(1, activation='linear'),\n",
    "    Dense(1, activation='sigmoid'),\n",
    "    Lambda(lambda x: x * 4)\n",
    "])"
   ]
  },
  {
   "cell_type": "code",
   "execution_count": 33,
   "id": "db494c05",
   "metadata": {},
   "outputs": [
    {
     "name": "stdout",
     "output_type": "stream",
     "text": [
      "Epoch 1/20\n",
      "151/151 [==============================] - 5s 17ms/step - loss: 5.0133 - mean_absolute_error: 2.1172\n",
      "Epoch 2/20\n",
      "151/151 [==============================] - 3s 17ms/step - loss: 5.5997 - mean_absolute_error: 2.2638\n",
      "Epoch 3/20\n",
      "151/151 [==============================] - 3s 17ms/step - loss: 5.5863 - mean_absolute_error: 2.2605\n",
      "Epoch 4/20\n",
      "151/151 [==============================] - 2s 15ms/step - loss: 5.1458 - mean_absolute_error: 2.1503\n",
      "Epoch 5/20\n",
      "151/151 [==============================] - 2s 15ms/step - loss: 4.9159 - mean_absolute_error: 2.0928\n",
      "Epoch 6/20\n",
      "151/151 [==============================] - 2s 15ms/step - loss: 5.6030 - mean_absolute_error: 2.2647\n",
      "Epoch 7/20\n",
      "151/151 [==============================] - 2s 15ms/step - loss: 5.6030 - mean_absolute_error: 2.2647\n",
      "Epoch 8/20\n",
      "151/151 [==============================] - 2s 15ms/step - loss: 5.6030 - mean_absolute_error: 2.2647\n",
      "Epoch 9/20\n",
      "151/151 [==============================] - 2s 15ms/step - loss: 5.5963 - mean_absolute_error: 2.2630\n",
      "Epoch 10/20\n",
      "151/151 [==============================] - 2s 15ms/step - loss: 5.5894 - mean_absolute_error: 2.2612\n",
      "Epoch 11/20\n",
      "151/151 [==============================] - 2s 15ms/step - loss: 5.5997 - mean_absolute_error: 2.2638\n",
      "Epoch 12/20\n",
      "151/151 [==============================] - 2s 15ms/step - loss: 5.5997 - mean_absolute_error: 2.2638\n",
      "Epoch 13/20\n",
      "151/151 [==============================] - 2s 15ms/step - loss: 5.3191 - mean_absolute_error: 2.1936\n",
      "Epoch 14/20\n",
      "151/151 [==============================] - 2s 15ms/step - loss: 5.4265 - mean_absolute_error: 2.2206\n",
      "Epoch 15/20\n",
      "151/151 [==============================] - 2s 15ms/step - loss: 5.3999 - mean_absolute_error: 2.2139\n",
      "Epoch 16/20\n",
      "151/151 [==============================] - 2s 15ms/step - loss: 5.4765 - mean_absolute_error: 2.2330\n",
      "Epoch 17/20\n",
      "151/151 [==============================] - 2s 15ms/step - loss: 5.5729 - mean_absolute_error: 2.2572\n",
      "Epoch 18/20\n",
      "151/151 [==============================] - 2s 15ms/step - loss: 5.6030 - mean_absolute_error: 2.2647\n",
      "Epoch 19/20\n",
      "151/151 [==============================] - 2s 15ms/step - loss: 5.6030 - mean_absolute_error: 2.2647\n",
      "Epoch 20/20\n",
      "151/151 [==============================] - 2s 15ms/step - loss: 5.6030 - mean_absolute_error: 2.2647\n"
     ]
    },
    {
     "data": {
      "text/plain": [
       "<keras.src.callbacks.History at 0x1e1bc399b50>"
      ]
     },
     "execution_count": 33,
     "metadata": {},
     "output_type": "execute_result"
    }
   ],
   "source": [
    "# Compile the model\n",
    "model.compile(\n",
    "    optimizer='adam',\n",
    "    loss='mean_squared_error',\n",
    "    metrics=['mean_absolute_error'])\n",
    "# Train the model\n",
    "model.fit(X_train, y_train, epochs=20, batch_size=16, verbose=1)"
   ]
  },
  {
   "cell_type": "code",
   "execution_count": 34,
   "id": "184867f6",
   "metadata": {},
   "outputs": [
    {
     "name": "stdout",
     "output_type": "stream",
     "text": [
      "Validation MAE: 2.19301176071167;Validation loss: 5.297836780548096\n"
     ]
    }
   ],
   "source": [
    "loss, mae = model.evaluate(X_test, y_test, verbose=0)\n",
    "print(f'Validation MAE: {mae};Validation loss: {loss}')"
   ]
  },
  {
   "cell_type": "code",
   "execution_count": 38,
   "id": "79dadb92",
   "metadata": {},
   "outputs": [
    {
     "name": "stdout",
     "output_type": "stream",
     "text": [
      "19/19 [==============================] - 0s 6ms/step\n",
      "0.008319467554076539\n"
     ]
    }
   ],
   "source": [
    "predictions = model.predict(X_test)\n",
    "#rounded_predictions = np.clip(np.round(predictions).flatten(), 0, 4)\n",
    "rounded_predictions = np.round(predictions).flatten()\n",
    "accuracy = np.sum(rounded_predictions == y_test)/len(y_test)\n",
    "print(accuracy)"
   ]
  },
  {
   "cell_type": "code",
   "execution_count": null,
   "id": "22cfc191",
   "metadata": {},
   "outputs": [],
   "source": []
  }
 ],
 "metadata": {
  "kernelspec": {
   "display_name": "Python 3 (ipykernel)",
   "language": "python",
   "name": "python3"
  },
  "language_info": {
   "codemirror_mode": {
    "name": "ipython",
    "version": 3
   },
   "file_extension": ".py",
   "mimetype": "text/x-python",
   "name": "python",
   "nbconvert_exporter": "python",
   "pygments_lexer": "ipython3",
   "version": "3.11.3"
  }
 },
 "nbformat": 4,
 "nbformat_minor": 5
}
